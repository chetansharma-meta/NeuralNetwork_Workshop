{
 "cells": [
  {
   "cell_type": "code",
   "execution_count": 1,
   "metadata": {},
   "outputs": [
    {
     "name": "stdout",
     "output_type": "stream",
     "text": [
      "Found 100 images belonging to 2 classes.\n",
      "Found 16 images belonging to 2 classes.\n"
     ]
    }
   ],
   "source": [
    "from tensorflow.keras.preprocessing.image import ImageDataGenerator\n",
    "from tensorflow.keras.models import Sequential\n",
    "from tensorflow.keras.layers import Conv2D, MaxPooling2D, Flatten, Dense\n",
    "from tensorflow.keras.optimizers import Adam\n",
    "\n",
    "# Adjust paths according to your dataset location\n",
    "train_datagen = ImageDataGenerator(rescale=1./255)\n",
    "val_datagen = ImageDataGenerator(rescale=1./255)\n",
    "\n",
    "train_dir = r'D:\\College\\Neural Network\\Pneumonia Preditction\\Dataset\\train'\n",
    "val_dir = r'D:\\College\\Neural Network\\Pneumonia Preditction\\Dataset\\val'\n",
    "\n",
    "# Define image dimensions and batch size\n",
    "img_width, img_height = 150, 150\n",
    "batch_size = 32\n",
    "\n",
    "train_generator = train_datagen.flow_from_directory(\n",
    "    train_dir,\n",
    "    target_size=(img_width, img_height),\n",
    "    batch_size=batch_size,\n",
    "    class_mode='binary')  # Adjust for multiple classes if needed\n",
    "\n",
    "val_generator = val_datagen.flow_from_directory(\n",
    "    val_dir,\n",
    "    target_size=(img_width, img_height),\n",
    "    batch_size=batch_size,\n",
    "    class_mode='binary')\n"
   ]
  },
  {
   "cell_type": "markdown",
   "metadata": {},
   "source": []
  },
  {
   "cell_type": "code",
   "execution_count": 2,
   "metadata": {},
   "outputs": [
    {
     "name": "stdout",
     "output_type": "stream",
     "text": [
      "Epoch 1/10\n",
      "4/4 [==============================] - 8s 372ms/step - loss: 1.1891 - accuracy: 0.4200 - val_loss: 0.6604 - val_accuracy: 0.6875\n",
      "Epoch 2/10\n",
      "4/4 [==============================] - 1s 273ms/step - loss: 0.6968 - accuracy: 0.4900 - val_loss: 0.6482 - val_accuracy: 0.5625\n",
      "Epoch 3/10\n",
      "4/4 [==============================] - 1s 269ms/step - loss: 0.5692 - accuracy: 0.8500 - val_loss: 0.5246 - val_accuracy: 0.8125\n",
      "Epoch 4/10\n",
      "4/4 [==============================] - 1s 199ms/step - loss: 0.3814 - accuracy: 0.8900 - val_loss: 0.4593 - val_accuracy: 0.7500\n",
      "Epoch 5/10\n",
      "4/4 [==============================] - 1s 185ms/step - loss: 0.3117 - accuracy: 0.8600 - val_loss: 0.8169 - val_accuracy: 0.6250\n",
      "Epoch 6/10\n",
      "4/4 [==============================] - 1s 187ms/step - loss: 0.2311 - accuracy: 0.9000 - val_loss: 0.2151 - val_accuracy: 0.9375\n",
      "Epoch 7/10\n",
      "4/4 [==============================] - 1s 212ms/step - loss: 0.1471 - accuracy: 0.9500 - val_loss: 0.2540 - val_accuracy: 0.8750\n",
      "Epoch 8/10\n",
      "4/4 [==============================] - 1s 289ms/step - loss: 0.1015 - accuracy: 0.9700 - val_loss: 0.1118 - val_accuracy: 1.0000\n",
      "Epoch 9/10\n",
      "4/4 [==============================] - 1s 282ms/step - loss: 0.0727 - accuracy: 0.9700 - val_loss: 0.1120 - val_accuracy: 1.0000\n",
      "Epoch 10/10\n",
      "4/4 [==============================] - 1s 197ms/step - loss: 0.0421 - accuracy: 0.9900 - val_loss: 0.0412 - val_accuracy: 1.0000\n"
     ]
    },
    {
     "data": {
      "text/plain": [
       "<keras.callbacks.History at 0x2360d2bd4f0>"
      ]
     },
     "execution_count": 2,
     "metadata": {},
     "output_type": "execute_result"
    }
   ],
   "source": [
    "model = Sequential()\n",
    "model.add(Conv2D(32, (3, 3), activation='relu', input_shape=(img_width, img_height, 3)))\n",
    "model.add(MaxPooling2D(pool_size=(2, 2)))\n",
    "model.add(Conv2D(64, (3, 3), activation='relu'))\n",
    "model.add(MaxPooling2D(pool_size=(2, 2)))\n",
    "model.add(Flatten())\n",
    "model.add(Dense(64, activation='relu'))\n",
    "model.add(Dense(1, activation='sigmoid'))  # Adjust output size for multiple classes\n",
    "\n",
    "model.compile(loss='binary_crossentropy', optimizer=Adam(learning_rate=0.001), metrics=['accuracy'])\n",
    "\n",
    "# Adjust epochs based on your dataset size and training time constraints\n",
    "model.fit(train_generator, epochs=10, validation_data=val_generator)\n"
   ]
  },
  {
   "cell_type": "code",
   "execution_count": 3,
   "metadata": {},
   "outputs": [],
   "source": [
    "model.save(\"model_small.h5\")"
   ]
  },
  {
   "cell_type": "code",
   "execution_count": 1,
   "metadata": {},
   "outputs": [
    {
     "name": "stdout",
     "output_type": "stream",
     "text": [
      "1/1 [==============================] - 5s 5s/step\n",
      "Predicted: Normal\n"
     ]
    }
   ],
   "source": [
    "from tensorflow.keras.preprocessing import image\n",
    "from tensorflow.keras.models import load_model\n",
    "\n",
    "# Replace with the path to your trained model\n",
    "model_path = 'path/to/your/trained_model.h5'\n",
    "\n",
    "# Load the trained model\n",
    "model = load_model('model_small.h5')\n",
    "\n",
    "# Define the image path\n",
    "img_path = 'test2.jpeg'\n",
    "\n",
    "# Preprocess the image\n",
    "img = image.load_img(img_path, target_size=(150, 150))  # Adjust size as needed\n",
    "img = image.img_to_array(img)\n",
    "img = img / 255.0  # Normalize\n",
    "img = img.reshape((1, img.shape[0], img.shape[1], img.shape[2]))\n",
    "\n",
    "# Make prediction\n",
    "prediction = model.predict(img)[0][0]  # Assuming binary outputs\n",
    "\n",
    "if prediction > 0.8:\n",
    "    print(\"Predicted: Pneumonia\")\n",
    "else:\n",
    "    print(\"Predicted: Normal\")\n"
   ]
  },
  {
   "cell_type": "code",
   "execution_count": null,
   "metadata": {},
   "outputs": [],
   "source": []
  }
 ],
 "metadata": {
  "kernelspec": {
   "display_name": "tf",
   "language": "python",
   "name": "python3"
  },
  "language_info": {
   "codemirror_mode": {
    "name": "ipython",
    "version": 3
   },
   "file_extension": ".py",
   "mimetype": "text/x-python",
   "name": "python",
   "nbconvert_exporter": "python",
   "pygments_lexer": "ipython3",
   "version": "3.9.18"
  }
 },
 "nbformat": 4,
 "nbformat_minor": 2
}
